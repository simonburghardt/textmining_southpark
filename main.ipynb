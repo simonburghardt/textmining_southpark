{
 "cells": [
  {
   "cell_type": "markdown",
   "metadata": {},
   "source": [
    "# Soutpark"
   ]
  },
  {
   "cell_type": "code",
   "execution_count": 46,
   "metadata": {},
   "outputs": [],
   "source": [
    "import csv\n",
    "from collections import Counter\n",
    "global header, data_dict, data_list\n",
    "\n",
    "csv_file = \"data/season1.csv\"\n",
    "\n",
    "data_list  = []"
   ]
  },
  {
   "cell_type": "markdown",
   "metadata": {},
   "source": [
    "Diese Funktion lädt die Daten aus unserer CSV-Datei in eine Liste. Innerhalb der Liste werden Dictionaries für die einzelnen Redebeiträge gespeichert.\n",
    "\n",
    "Beispiel Zeile 1:\n",
    "\n",
    "OrderedDict([('Season', '1'), ('Episode', '1'), ('Character', 'Boys'), ('Line', \"School day, school day, teacher's golden ru...\\n\")])\n"
   ]
  },
  {
   "cell_type": "code",
   "execution_count": 68,
   "metadata": {},
   "outputs": [],
   "source": [
    "def load_data():\n",
    "    \n",
    "    # Läd die Datei und speichert den Inhalt in data_dict und die Feldnamen in Header\n",
    "\n",
    "    with open(csv_file, 'r+', encoding='utf-8') as f:\n",
    "        \n",
    "        reader = csv.DictReader(f, delimiter=',')\n",
    "        header = reader.fieldnames\n",
    "        \n",
    "        for row in reader:\n",
    "            data_list.append(dict(row))\n",
    "        \n",
    "    print('Daten geladen!')\n",
    "    return True"
   ]
  },
  {
   "cell_type": "markdown",
   "metadata": {},
   "source": []
  },
  {
   "cell_type": "code",
   "execution_count": 48,
   "metadata": {},
   "outputs": [],
   "source": [
    "def preprocess(list):\n",
    "    \n",
    "    for entry in list:\n",
    "        current_line = entry[\"Line\"]\n",
    "        entry[\"Line\"] = current_line[:-1].lower()\n",
    "        \n",
    "    return True\n"
   ]
  },
  {
   "cell_type": "code",
   "execution_count": 54,
   "metadata": {},
   "outputs": [],
   "source": [
    "def count_redebeitraege(data_list):\n",
    "    \n",
    "    speaker = {}\n",
    "    for s in data_list:\n",
    "        character = s[\"Character\"]\n",
    "        if character in speaker:\n",
    "            speaker[character] += 1\n",
    "        else:\n",
    "            speaker[character] = 1\n",
    "    \n",
    "    return speaker\n"
   ]
  },
  {
   "cell_type": "code",
   "execution_count": 64,
   "metadata": {},
   "outputs": [],
   "source": [
    "def tokenize_single_line(single_line):\n",
    "    \n",
    "    tokens = single_line.split()\n",
    "    tokens = [t.strip(\".,;!?\").lower() for t in tokens]\n",
    "    return tokens"
   ]
  },
  {
   "cell_type": "code",
   "execution_count": null,
   "metadata": {},
   "outputs": [
    {
     "name": "stdout",
     "output_type": "stream",
     "text": [
      "Daten geladen!\n",
      "{'Boys': 15, 'Kyle': 1665, 'Ike': 48, 'Cartman': 1872, 'Stan': 1953, 'Kenny': 165, 'Chef': 753, 'Student': 6, 'Ms. Crabtree': 60, 'Kyle, Ms. Crabtree': 3, 'Farmer Carl': 15, 'Officer Barbrady': 111, 'Mr. Garrison': 636, 'Mr. Hat': 102, 'Train Conductor': 3, 'Kid': 6, 'Jason': 3, 'Wendy': 384, 'Kyle, Cartman': 6, 'Liane': 186, 'News Reporter': 6, 'Mr. Kitty': 15, 'Alien': 12, 'Cows': 9, 'Cow': 9, 'Alien Carl': 3, 'Aliens': 3, 'Blonde': 6, 'Stan, Kyle': 24, 'Mayor': 165, 'Aide 1': 18, 'Aide 2': 12, 'Kyle, Stan': 12, 'Lil Mr. Garrison': 12, 'Show Announcer': 3, 'Lil Kathie Lee': 3, 'TV Announcer': 39, 'Beefcake': 18, 'Mrs. Cartman': 9, 'Clyde': 63, 'Bebe': 36, 'Townsman': 33, 'Jimbo': 369, 'Townswoman': 9, 'Kathie Lee': 15, 'Agent 1': 15, 'Agent 2': 6, 'TV Crew Director': 6, 'Townsman 1': 9, 'Townsman 2': 6, 'Geraldo': 6, 'Ned': 105, 'Randy': 63, 'Johnson': 21, 'Ted': 3, 'Newscaster': 30, 'Crowd': 21, 'Individual in crowd': 3, 'Host': 3, 'Kyle, Stan, Cartman': 3, 'Patrick Duffy': 6, 'Scuzzlebutt': 9, 'Denver citizens': 3, 'Sylvester': 3, 'Pip': 108, 'Rex': 3, 'Fosse': 27, 'Bill': 30, 'Sparky': 12, 'Bookie': 6, 'Gambler 1': 3, 'Gambler 2': 3, 'Gambler 3': 3, 'Female Gambler 1': 3, 'Female Gambler 2': 3, 'Gambler 4': 3, 'Jesus': 186, 'Robert': 12, 'Carl': 24, 'Big Gay Al': 54, 'Cowboys': 6, 'Frank Hammond': 3, 'Referee': 12, 'Frank': 66, 'Gay Lion': 3, 'Vocalist': 6, 'Huddle': 3, 'Cowboy 1': 3, 'Cowboy 2': 3, 'Phil': 12, 'Cowboy': 3, 'Boat Ride Singers': 3, 'Richard': 18, 'Crowd Member': 3, 'Townsperson 1': 6, 'Townsperson 2': 6, 'Townsperson 3': 3, 'Enrique': 3, 'Terrance': 123, 'Shelly': 51, 'Mephesto': 162, 'Monkey': 6, 'Kid 1': 6, 'Kid 2': 6, 'TV Voice': 6, 'Elton': 3, 'Big Stan': 39, 'Woman': 27, 'Tom': 54, 'TV Newscaster': 3, 'Uncle Jimbo': 15, 'Carol': 18, 'Marsh Family': 6, 'Grampa': 144, 'Sharon': 21, 'Phillip': 69, 'Sheila': 117, 'Class': 12, 'Caller': 6, 'Martin': 9, 'Talk Show Host': 6, 'All': 9, 'John Warzog': 6, 'Police Radio': 3, 'Death': 27, 'Kids': 15, 'Great-Great-Grampa': 15, 'Suzanne': 6, 'Dude': 6, 'Comrade 1': 12, 'Comrade 2': 9, 'Paramedic': 3, 'Mortician': 21, 'Marty': 12, 'Doctor': 33, 'Zombie': 6, 'Zombie Mortician': 3, 'Passer-by': 3, 'Principal Victoria': 72, 'Narrator': 3, 'Hitler': 3, 'Puffy the Bear': 3, 'Jogger': 3, 'Midget': 3, 'Mr. Torres': 3, 'The Boys': 15, 'Elderly Woman': 9, 'Somebody': 3, 'Female': 3, 'Hotline Voice': 18, 'Sally Struthers': 33, 'The Mayor': 84, 'Everybody': 3, 'Man': 18, 'Marvin': 15, 'Aide': 9, 'Mrs. McCormick': 6, 'Stuart': 9, 'Red Cross Dude': 9, 'Leader Turkey': 3, 'Stan, Kyle, Kenny': 3, 'Red Cross Chick': 3, 'Ethiopian': 3, 'Large woman': 3, 'Some men': 3, 'Priest': 39, 'Tree hugger': 3, 'Man 1': 12, 'Man 2': 6, 'Assistant 1': 3, 'Gerald': 39, 'Voice': 6, 'Mr. Hankey': 66, 'Researcher': 3, 'Janitor 2': 3, 'Mr. Mackey': 66, 'Students': 3, 'Nurse': 9, 'Artsy Man': 3, 'His Date': 3, 'MC': 12, 'Randy Marsh': 3, 'Voice-over': 3, 'Elderly Tree Hugger': 3, 'Man in audience': 3, 'Cartman, Stan': 3, 'Townsfolk': 9, 'Mr. Pirrip': 3, 'Santa': 3, 'New kid': 3, 'Damien': 81, 'Roland': 3, 'Groundskeeper': 3, 'Redhead': 3, 'Satan': 42, 'Man in crowd': 3, 'Announcer': 27, 'Man 3': 3, 'Man 4': 3, 'Reporter 1': 3, 'Reporter 2': 3, 'Don King': 3, 'Mrs Cartman': 3, 'Michael Buffer': 6, 'Ms. Ellen': 153, 'Female singer': 9, 'Chef (falsetto)': 3, 'Indiglo Girls singer': 3, 'Mrs. Campbell': 15, 'Photographer': 12, 'Leader': 9, 'Korashki': 15, 'Iraqi': 9, 'Anthropologist': 18, 'Anchor': 3, 'Quadraplegic Swiss man': 6, 'Dave': 3, 'Leonard Maltin': 87, 'Barbra Streisand': 105, 'Milo': 6, 'Director': 6, 'Sidney Poitier': 24, 'Princesses': 9, 'Reporter': 3, 'Singer': 21, 'Assistant': 3, 'The boys': 3, 'Robert Smith': 24, 'Sergeant': 6, 'Sheila Broflovski': 3, 'Citizen': 3, 'All three': 3, 'Polly': 18, 'Peter': 9, 'Rumpertumskin': 3, 'Kitty': 12, 'Trainee Barbrady': 6, 'Annoncer': 9, 'Bob Saget': 33, 'Chief Running Water': 36, 'Indian 1': 6, 'Bronco 1': 3, 'Bronco 2': 3, 'Principa Victoria': 3, 'Grizzled Man': 3, 'Halfy': 3, 'Falsetto': 6}\n"
     ]
    }
   ],
   "source": [
    "load_data()\n",
    "preprocess(data_list)\n",
    "speaker_dict = count_redebeitraege(data_list)\n",
    "print(speaker_dict)\n"
   ]
  },
  {
   "cell_type": "code",
   "execution_count": null,
   "metadata": {},
   "outputs": [
    {
     "name": "stdout",
     "output_type": "stream",
     "text": [
      "['school', 'day', 'school', 'day', \"teacher's\", 'golden', 'ru']\n"
     ]
    }
   ],
   "source": [
    "for dataset in data_list:\n",
    "    \n",
    "    tokens = tokenize_single_line(dataset[\"Line\"])\n",
    "    print(tokens)\n",
    "    break"
   ]
  }
 ],
 "metadata": {
  "kernelspec": {
   "display_name": "Python 3",
   "language": "python",
   "name": "python3"
  },
  "language_info": {
   "codemirror_mode": {
    "name": "ipython",
    "version": 3
   },
   "file_extension": ".py",
   "mimetype": "text/x-python",
   "name": "python",
   "nbconvert_exporter": "python",
   "pygments_lexer": "ipython3",
   "version": "3.6.4"
  }
 },
 "nbformat": 4,
 "nbformat_minor": 1
}
